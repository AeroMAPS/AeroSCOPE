{
 "cells": [
  {
   "cell_type": "code",
   "execution_count": 1,
   "id": "05d1ff0b-9c4b-4016-8fa9-75a2071e9fcd",
   "metadata": {
    "tags": []
   },
   "outputs": [],
   "source": [
    "import pandas as pd\n",
    "from user_interface import UserInterface\n",
    "\n",
    "%matplotlib inline"
   ]
  },
  {
   "cell_type": "code",
   "execution_count": 2,
   "id": "2a563c62-cc38-4f3f-9124-012d0c2c34ec",
   "metadata": {
    "tags": []
   },
   "outputs": [
    {
     "data": {
      "application/vnd.jupyter.widget-view+json": {
       "model_id": "32625142185c47e498eec58d9095c7ae",
       "version_major": 2,
       "version_minor": 0
      },
      "text/plain": [
       "Output()"
      ]
     },
     "metadata": {},
     "output_type": "display_data"
    }
   ],
   "source": [
    "UserInterface()"
   ]
  },
  {
   "cell_type": "code",
   "execution_count": null,
   "id": "0ac29919-dcc2-4a64-aa66-6c3dac3d6f0a",
   "metadata": {
    "tags": []
   },
   "outputs": [],
   "source": [
    "# UserInterface(\n",
    "#     use_opensky_data=False,\n",
    "#     class_=\"mt-10 pa-0\",\n",
    "#     # id='inspire',\n",
    "#     style_=\"background-color: white; pa-0 ma-0;\",  # Set the desired background color and padding here\n",
    "# )"
   ]
  }
 ],
 "metadata": {
  "kernelspec": {
   "display_name": "Python 3 (ipykernel)",
   "language": "python",
   "name": "python3"
  },
  "language_info": {
   "codemirror_mode": {
    "name": "ipython",
    "version": 3
   },
   "file_extension": ".py",
   "mimetype": "text/x-python",
   "name": "python",
   "nbconvert_exporter": "python",
   "pygments_lexer": "ipython3",
   "version": "3.10.13"
  }
 },
 "nbformat": 4,
 "nbformat_minor": 5
}
