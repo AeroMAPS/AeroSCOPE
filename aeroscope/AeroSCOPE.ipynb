{
 "cells": [
  {
   "cell_type": "code",
   "execution_count": 1,
   "id": "05d1ff0b-9c4b-4016-8fa9-75a2071e9fcd",
   "metadata": {
    "ExecuteTime": {
     "end_time": "2025-02-05T10:06:25.688877Z",
     "start_time": "2025-02-05T10:06:25.299042Z"
    },
    "tags": []
   },
   "outputs": [],
   "source": [
    "from user_interface import UserInterface\n",
    "%matplotlib inline"
   ]
  },
  {
   "cell_type": "code",
   "execution_count": 2,
   "id": "439bd211c2750bef",
   "metadata": {
    "ExecuteTime": {
     "end_time": "2025-02-05T10:06:25.697546Z",
     "start_time": "2025-02-05T10:06:25.694681Z"
    },
    "collapsed": false,
    "jupyter": {
     "outputs_hidden": false
    }
   },
   "outputs": [],
   "source": [
    "### Preprocess?\n",
    "\n",
    "# import preprocess, preprocess_OS\n",
    "# preprocess.preprocess(\"../03_routes_schedule/data/final_12_12.csv\")\n",
    "# preprocess_OS.preprocess(\"../01_to_03_bis_opensky_only/data/os_alone_test.csv\")"
   ]
  },
  {
   "cell_type": "code",
   "execution_count": 3,
   "id": "2a563c62-cc38-4f3f-9124-012d0c2c34ec",
   "metadata": {
    "ExecuteTime": {
     "end_time": "2025-02-05T10:06:45.995079Z",
     "start_time": "2025-02-05T10:06:26.138295Z"
    },
    "tags": []
   },
   "outputs": [
    {
     "data": {
      "application/vnd.jupyter.widget-view+json": {
       "model_id": "ea7bd5386a064254b041e4d6c3bd0281",
       "version_major": 2,
       "version_minor": 0
      },
      "text/plain": [
       "Output()"
      ]
     },
     "metadata": {},
     "output_type": "display_data"
    },
    {
     "data": {
      "application/vnd.jupyter.widget-view+json": {
       "model_id": "2562ca3a0053467e98c44ba604704af8",
       "version_major": 2,
       "version_minor": 0
      },
      "text/plain": [
       "App(children=[AppBar(app=True, children=[RadioGroup(children=[Radio(label='Compilation', layout=None, value='c…"
      ]
     },
     "execution_count": 3,
     "metadata": {},
     "output_type": "execute_result"
    }
   ],
   "source": [
    "UserInterface().app"
   ]
  }
 ],
 "metadata": {
  "kernelspec": {
   "display_name": "Python 3 (ipykernel)",
   "language": "python",
   "name": "python3"
  },
  "language_info": {
   "codemirror_mode": {
    "name": "ipython",
    "version": 3
   },
   "file_extension": ".py",
   "mimetype": "text/x-python",
   "name": "python",
   "nbconvert_exporter": "python",
   "pygments_lexer": "ipython3",
   "version": "3.10.16"
  }
 },
 "nbformat": 4,
 "nbformat_minor": 5
}
