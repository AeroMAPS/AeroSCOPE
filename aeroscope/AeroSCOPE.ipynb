{
 "cells": [
  {
   "cell_type": "code",
   "id": "05d1ff0b-9c4b-4016-8fa9-75a2071e9fcd",
   "metadata": {
    "tags": [],
    "ExecuteTime": {
     "end_time": "2025-02-05T10:06:25.688877Z",
     "start_time": "2025-02-05T10:06:25.299042Z"
    }
   },
   "source": [
    "from user_interface import UserInterface\n",
    "%matplotlib inline"
   ],
   "outputs": [],
   "execution_count": 2
  },
  {
   "cell_type": "code",
   "id": "439bd211c2750bef",
   "metadata": {
    "collapsed": false,
    "jupyter": {
     "outputs_hidden": false
    },
    "ExecuteTime": {
     "end_time": "2025-02-05T10:06:25.697546Z",
     "start_time": "2025-02-05T10:06:25.694681Z"
    }
   },
   "source": [
    "### Preprocess?\n",
    "\n",
    "# import preprocess, preprocess_OS\n",
    "# preprocess.preprocess(\"../03_routes_schedule/data/final_12_12.csv\")\n",
    "# preprocess_OS.preprocess(\"../01_to_03_bis_opensky_only/data/os_alone_test.csv\")"
   ],
   "outputs": [],
   "execution_count": 3
  },
  {
   "cell_type": "code",
   "id": "2a563c62-cc38-4f3f-9124-012d0c2c34ec",
   "metadata": {
    "tags": [],
    "ExecuteTime": {
     "end_time": "2025-02-05T10:06:45.995079Z",
     "start_time": "2025-02-05T10:06:26.138295Z"
    }
   },
   "source": [
    "UserInterface().app"
   ],
   "outputs": [
    {
     "data": {
      "text/plain": [
       "Output()"
      ],
      "application/vnd.jupyter.widget-view+json": {
       "version_major": 2,
       "version_minor": 0,
       "model_id": "e4b633aa21684598857442c61ce0d3e3"
      }
     },
     "metadata": {},
     "output_type": "display_data"
    },
    {
     "data": {
      "text/plain": [
       "App(children=[AppBar(app=True, children=[RadioGroup(children=[Radio(label='Compilation', layout=None, value='c…"
      ],
      "application/vnd.jupyter.widget-view+json": {
       "version_major": 2,
       "version_minor": 0,
       "model_id": "62594f4921ba432ba7c6c01fec66e478"
      }
     },
     "execution_count": 4,
     "metadata": {},
     "output_type": "execute_result"
    }
   ],
   "execution_count": 4
  }
 ],
 "metadata": {
  "kernelspec": {
   "display_name": "Python 3 (ipykernel)",
   "language": "python",
   "name": "python3"
  },
  "language_info": {
   "codemirror_mode": {
    "name": "ipython",
    "version": 3
   },
   "file_extension": ".py",
   "mimetype": "text/x-python",
   "name": "python",
   "nbconvert_exporter": "python",
   "pygments_lexer": "ipython3",
   "version": "3.10.13"
  }
 },
 "nbformat": 4,
 "nbformat_minor": 5
}
